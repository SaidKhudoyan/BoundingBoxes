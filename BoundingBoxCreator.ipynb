{
 "cells": [
  {
   "cell_type": "markdown",
   "id": "0bf89cd7",
   "metadata": {},
   "source": [
    "# BoundingBoxeCreator"
   ]
  },
  {
   "cell_type": "markdown",
   "id": "0a4f5a13",
   "metadata": {},
   "source": [
    "### Author: Said Khudoyan\n",
    "\n",
    "For many object detection tasks it might be very useful to have an own BoundingBoxCreator, because one might use the created BoundingBoxes for other tasks or also for the evaluation part.\n",
    "\n",
    "To make it easier to use the BoundingBoxes, every box will be saved as a json file with the information needed.\n",
    "\n",
    "Also overlay files (where BoundingBoxes are drawn on the original image) will be created and saved.\n",
    "\n",
    "Without further ado, lets get started."
   ]
  },
  {
   "cell_type": "code",
   "execution_count": null,
   "id": "6f8c8d52",
   "metadata": {},
   "outputs": [],
   "source": []
  },
  {
   "cell_type": "code",
   "execution_count": null,
   "id": "88197a84",
   "metadata": {},
   "outputs": [],
   "source": []
  },
  {
   "cell_type": "code",
   "execution_count": null,
   "id": "108571fe",
   "metadata": {},
   "outputs": [],
   "source": []
  },
  {
   "cell_type": "code",
   "execution_count": null,
   "id": "3c601e46",
   "metadata": {},
   "outputs": [],
   "source": []
  },
  {
   "cell_type": "code",
   "execution_count": null,
   "id": "5607d0e7",
   "metadata": {},
   "outputs": [],
   "source": []
  },
  {
   "cell_type": "code",
   "execution_count": null,
   "id": "28c3a6af",
   "metadata": {},
   "outputs": [],
   "source": []
  },
  {
   "cell_type": "code",
   "execution_count": null,
   "id": "f8b252ff",
   "metadata": {},
   "outputs": [],
   "source": []
  },
  {
   "cell_type": "code",
   "execution_count": null,
   "id": "03d0cd05",
   "metadata": {},
   "outputs": [],
   "source": []
  },
  {
   "cell_type": "code",
   "execution_count": null,
   "id": "a3308387",
   "metadata": {},
   "outputs": [],
   "source": []
  },
  {
   "cell_type": "code",
   "execution_count": null,
   "id": "e8ebaa85",
   "metadata": {},
   "outputs": [],
   "source": []
  },
  {
   "cell_type": "code",
   "execution_count": null,
   "id": "6713eedd",
   "metadata": {},
   "outputs": [],
   "source": []
  },
  {
   "cell_type": "code",
   "execution_count": null,
   "id": "13b43a95",
   "metadata": {},
   "outputs": [],
   "source": []
  }
 ],
 "metadata": {
  "kernelspec": {
   "display_name": "hands-on-ai",
   "language": "python",
   "name": "hands-on-ai"
  },
  "language_info": {
   "codemirror_mode": {
    "name": "ipython",
    "version": 3
   },
   "file_extension": ".py",
   "mimetype": "text/x-python",
   "name": "python",
   "nbconvert_exporter": "python",
   "pygments_lexer": "ipython3",
   "version": "3.8.8"
  }
 },
 "nbformat": 4,
 "nbformat_minor": 5
}
